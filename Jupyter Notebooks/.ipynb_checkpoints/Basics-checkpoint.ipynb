{
 "cells": [
  {
   "cell_type": "code",
   "execution_count": 7,
   "id": "8e4e0951-4b8a-4191-a09f-fcb84954e435",
   "metadata": {},
   "outputs": [
    {
     "ename": "ModuleNotFoundError",
     "evalue": "No module named 'matplotlib'",
     "output_type": "error",
     "traceback": [
      "\u001b[31m---------------------------------------------------------------------------\u001b[39m",
      "\u001b[31mModuleNotFoundError\u001b[39m                       Traceback (most recent call last)",
      "\u001b[36mCell\u001b[39m\u001b[36m \u001b[39m\u001b[32mIn[7]\u001b[39m\u001b[32m, line 5\u001b[39m\n\u001b[32m      3\u001b[39m \u001b[38;5;28;01mfrom\u001b[39;00m\u001b[38;5;250m \u001b[39m\u001b[34;01mdatetime\u001b[39;00m\u001b[38;5;250m \u001b[39m\u001b[38;5;28;01mimport\u001b[39;00m datetime, timedelta\n\u001b[32m      4\u001b[39m \u001b[38;5;28;01mfrom\u001b[39;00m\u001b[38;5;250m \u001b[39m\u001b[34;01mmath\u001b[39;00m\u001b[38;5;250m \u001b[39m\u001b[38;5;28;01mimport\u001b[39;00m floor\n\u001b[32m----> \u001b[39m\u001b[32m5\u001b[39m \u001b[38;5;28;01mimport\u001b[39;00m\u001b[38;5;250m \u001b[39m\u001b[34;01mmatplotlib\u001b[39;00m\u001b[34;01m.\u001b[39;00m\u001b[34;01mpyplot\u001b[39;00m\u001b[38;5;250m \u001b[39m\u001b[38;5;28;01mas\u001b[39;00m\u001b[38;5;250m \u001b[39m\u001b[34;01mplt\u001b[39;00m\n",
      "\u001b[31mModuleNotFoundError\u001b[39m: No module named 'matplotlib'"
     ]
    }
   ],
   "source": [
    "import random\n",
    "import time\n",
    "from datetime import datetime, timedelta\n",
    "from math import floor\n",
    "import matplotlib.pyplot as plt"
   ]
  },
  {
   "cell_type": "code",
   "execution_count": null,
   "id": "6b908961-74f4-4238-aa72-3ac0a607f613",
   "metadata": {},
   "outputs": [],
   "source": [
    "name = \"Makarand\"\n",
    "print(type(name))"
   ]
  },
  {
   "cell_type": "code",
   "execution_count": null,
   "id": "97e21983-2714-4784-8c20-16b9ea5845f2",
   "metadata": {},
   "outputs": [],
   "source": [
    "A,B=8,3\n",
    "C = A//B\n",
    "print(C, A/B)"
   ]
  },
  {
   "cell_type": "markdown",
   "id": "38b71d6d-8893-489a-b38f-40b777ce40e2",
   "metadata": {},
   "source": [
    "## Random generator"
   ]
  },
  {
   "cell_type": "code",
   "execution_count": null,
   "id": "a7b46e4f-1e52-4455-97b5-9e707c909c2e",
   "metadata": {},
   "outputs": [],
   "source": [
    "#Random number generation using python\n",
    "\n",
    "num = random.random()\n",
    "print(num)"
   ]
  },
  {
   "cell_type": "markdown",
   "id": "a36cdb2b-1d58-4a5f-b6aa-167143031573",
   "metadata": {},
   "source": [
    "## For Loop"
   ]
  },
  {
   "cell_type": "code",
   "execution_count": null,
   "id": "01a7f4a3-95c9-4d3e-922d-12597e112634",
   "metadata": {},
   "outputs": [],
   "source": [
    "for i in range(5):\n",
    "    print(floor(random.random()*100))\n",
    "\n"
   ]
  },
  {
   "cell_type": "markdown",
   "id": "53b2b5fa-84d8-40db-a688-87f1c7423747",
   "metadata": {},
   "source": [
    "## Time package"
   ]
  },
  {
   "cell_type": "code",
   "execution_count": null,
   "id": "314a9431-cdbd-43d0-be53-aa9e3f6affc3",
   "metadata": {},
   "outputs": [
    {
     "name": "stdout",
     "output_type": "stream",
     "text": [
      "1745251007.4245691 \n",
      "\n",
      "time.struct_time(tm_year=2025, tm_mon=4, tm_mday=21, tm_hour=21, tm_min=26, tm_sec=47, tm_wday=0, tm_yday=111, tm_isdst=0)\n",
      "2025-04-21 21:26:47 \n",
      "\n",
      "2025-04-21 21:26:47.424865\n",
      "Type of Now = <class 'datetime.datetime'>\n",
      "After 30 minutes 2025-04-21 21:56:47.424865 \n",
      "\n",
      "Wait for 2 seconds...\n",
      "Done waiting.\n"
     ]
    }
   ],
   "source": [
    "print(time.time(),\"\\n\")\n",
    "\n",
    "\n",
    "#LocalTime\n",
    "print(time.localtime())\n",
    "formatted_time = time.strftime(\"%Y-%m-%d %H:%M:%S\", time.localtime())\n",
    "print(formatted_time, \"\\n\")\n",
    "\n",
    "\n",
    "#Timedelta add and minus minutes\n",
    "now = datetime.now()\n",
    "print(now)\n",
    "print(\"Type of Now =\",type(now))\n",
    "\n",
    "#add 30 minutes\n",
    "add_minutes = now + timedelta(minutes=30)\n",
    "print(\"After 30 minutes\", add_minutes,\"\\n\")\n",
    "\n",
    "\n",
    "#Sleep time\n",
    "print(\"Wait for 2 seconds...\")\n",
    "time.sleep(2)\n",
    "print(\"Done waiting.\")"
   ]
  },
  {
   "cell_type": "code",
   "execution_count": 5,
   "id": "77d882c5-7c08-4ddc-a3b2-61a7ab880c8b",
   "metadata": {},
   "outputs": [
    {
     "name": "stdout",
     "output_type": "stream",
     "text": [
      "2025-04-21 21:42:24.400192\n",
      "-0.08797271161417242\n",
      "2025-04-21 21:47:24.400192\n",
      "0.4433351077292338\n",
      "2025-04-21 21:52:24.400192\n",
      "-0.5939054315459189\n",
      "2025-04-21 21:57:24.400192\n",
      "0.7925603170049265\n",
      "2025-04-21 22:02:24.400192\n",
      "0.22821438554602658\n"
     ]
    }
   ],
   "source": [
    "now = datetime.now()\n",
    "for i in range(5):\n",
    "    timeDiff = i * 5\n",
    "    print(now + timedelta(minutes=timeDiff))\n",
    "    print(random.uniform(-1,1))\n",
    "    "
   ]
  }
 ],
 "metadata": {
  "kernelspec": {
   "display_name": "Python 3 (ipykernel)",
   "language": "python",
   "name": "python3"
  },
  "language_info": {
   "codemirror_mode": {
    "name": "ipython",
    "version": 3
   },
   "file_extension": ".py",
   "mimetype": "text/x-python",
   "name": "python",
   "nbconvert_exporter": "python",
   "pygments_lexer": "ipython3",
   "version": "3.12.7"
  }
 },
 "nbformat": 4,
 "nbformat_minor": 5
}
